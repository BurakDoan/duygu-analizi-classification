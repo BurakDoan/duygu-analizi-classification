{
 "cells": [
  {
   "cell_type": "code",
   "execution_count": 1,
   "id": "9522dee5-9ec7-4da5-a3e8-10435f0270f0",
   "metadata": {},
   "outputs": [],
   "source": [
    "import numpy as np\n",
    "import pandas as pd"
   ]
  },
  {
   "cell_type": "code",
   "execution_count": 2,
   "id": "27bd7fd1-e576-4124-92d7-78867e7918b1",
   "metadata": {},
   "outputs": [],
   "source": [
    "df=pd.read_csv(\"duyguanalizi.csv\",encoding=\"ISO-8859-9\")"
   ]
  },
  {
   "cell_type": "code",
   "execution_count": 3,
   "id": "929d3762-50df-4827-92d8-aea042145afe",
   "metadata": {},
   "outputs": [
    {
     "data": {
      "text/plain": [
       "(1000, 2)"
      ]
     },
     "execution_count": 3,
     "metadata": {},
     "output_type": "execute_result"
    }
   ],
   "source": [
    "df.shape"
   ]
  },
  {
   "cell_type": "code",
   "execution_count": 4,
   "id": "b90d0945-2115-44b5-8817-4d467a8a6bb8",
   "metadata": {},
   "outputs": [
    {
     "data": {
      "text/html": [
       "<div>\n",
       "<style scoped>\n",
       "    .dataframe tbody tr th:only-of-type {\n",
       "        vertical-align: middle;\n",
       "    }\n",
       "\n",
       "    .dataframe tbody tr th {\n",
       "        vertical-align: top;\n",
       "    }\n",
       "\n",
       "    .dataframe thead th {\n",
       "        text-align: right;\n",
       "    }\n",
       "</style>\n",
       "<table border=\"1\" class=\"dataframe\">\n",
       "  <thead>\n",
       "    <tr style=\"text-align: right;\">\n",
       "      <th></th>\n",
       "      <th>Yorum</th>\n",
       "      <th>Duygu</th>\n",
       "    </tr>\n",
       "  </thead>\n",
       "  <tbody>\n",
       "    <tr>\n",
       "      <th>0</th>\n",
       "      <td>Bu fiyat bandında alınabilecek en iyi fiyat pe...</td>\n",
       "      <td>1</td>\n",
       "    </tr>\n",
       "    <tr>\n",
       "      <th>1</th>\n",
       "      <td>Ürün harika paketlenmişti  Kargo evime söylend...</td>\n",
       "      <td>1</td>\n",
       "    </tr>\n",
       "    <tr>\n",
       "      <th>2</th>\n",
       "      <td>Gerçekten bu zamanda alınabilecek fiyat perfor...</td>\n",
       "      <td>1</td>\n",
       "    </tr>\n",
       "    <tr>\n",
       "      <th>3</th>\n",
       "      <td>Ürünü indirimden aldım fakat ışık hüzmesi ve 2...</td>\n",
       "      <td>0</td>\n",
       "    </tr>\n",
       "    <tr>\n",
       "      <th>4</th>\n",
       "      <td>Ürün elime yanlış geldi  ürünü değiştireceğiz ...</td>\n",
       "      <td>0</td>\n",
       "    </tr>\n",
       "  </tbody>\n",
       "</table>\n",
       "</div>"
      ],
      "text/plain": [
       "                                               Yorum  Duygu\n",
       "0  Bu fiyat bandında alınabilecek en iyi fiyat pe...      1\n",
       "1  Ürün harika paketlenmişti  Kargo evime söylend...      1\n",
       "2  Gerçekten bu zamanda alınabilecek fiyat perfor...      1\n",
       "3  Ürünü indirimden aldım fakat ışık hüzmesi ve 2...      0\n",
       "4  Ürün elime yanlış geldi  ürünü değiştireceğiz ...      0"
      ]
     },
     "execution_count": 4,
     "metadata": {},
     "output_type": "execute_result"
    }
   ],
   "source": [
    "df.head()"
   ]
  },
  {
   "cell_type": "code",
   "execution_count": 5,
   "id": "d36e1b0e-b86a-4c45-80a8-9535b8d2249c",
   "metadata": {},
   "outputs": [
    {
     "data": {
      "text/plain": [
       "Yorum    0\n",
       "Duygu    0\n",
       "dtype: int64"
      ]
     },
     "execution_count": 5,
     "metadata": {},
     "output_type": "execute_result"
    }
   ],
   "source": [
    "df.isnull().sum() "
   ]
  },
  {
   "cell_type": "code",
   "execution_count": 6,
   "id": "2743c2ae-21d5-448a-9c82-3ebf66e3a5f3",
   "metadata": {},
   "outputs": [
    {
     "name": "stdout",
     "output_type": "stream",
     "text": [
      "<class 'pandas.core.frame.DataFrame'>\n",
      "RangeIndex: 1000 entries, 0 to 999\n",
      "Data columns (total 2 columns):\n",
      " #   Column  Non-Null Count  Dtype \n",
      "---  ------  --------------  ----- \n",
      " 0   Yorum   1000 non-null   object\n",
      " 1   Duygu   1000 non-null   int64 \n",
      "dtypes: int64(1), object(1)\n",
      "memory usage: 15.8+ KB\n"
     ]
    }
   ],
   "source": [
    "df.info()"
   ]
  },
  {
   "cell_type": "code",
   "execution_count": 7,
   "id": "22686798-79c8-4169-9f49-a5d5251562f6",
   "metadata": {},
   "outputs": [
    {
     "data": {
      "text/plain": [
       "Duygu\n",
       "1    500\n",
       "0    500\n",
       "Name: count, dtype: int64"
      ]
     },
     "execution_count": 7,
     "metadata": {},
     "output_type": "execute_result"
    }
   ],
   "source": [
    "df[\"Duygu\"].value_counts()"
   ]
  },
  {
   "cell_type": "code",
   "execution_count": 8,
   "id": "b1199e1e-7c6b-4ca2-95cd-bbf00cedd2d2",
   "metadata": {},
   "outputs": [
    {
     "data": {
      "text/plain": [
       "(901, 2)"
      ]
     },
     "execution_count": 8,
     "metadata": {},
     "output_type": "execute_result"
    }
   ],
   "source": [
    "df.drop_duplicates().shape"
   ]
  },
  {
   "cell_type": "code",
   "execution_count": 9,
   "id": "a6dae18a-c7d6-447e-afb8-e1c8f740d1c8",
   "metadata": {},
   "outputs": [
    {
     "data": {
      "text/plain": [
       "            Duygu\n",
       "Yorum  min  0        09 07 2023 tarihinde hepsiburada com dan 26000...\n",
       "            1        \"MSI laptop beklediğim gibi geldi  teşekkür ed...\n",
       "       max  0        şarj sorunu oluyor  şarj aleti oldukça kötü  e...\n",
       "            1        şuan birkaç üründe ve oyunda test ettim  sorun...\n",
       "dtype: object"
      ]
     },
     "execution_count": 9,
     "metadata": {},
     "output_type": "execute_result"
    }
   ],
   "source": [
    "df.groupby(\"Duygu\").aggregate([\"min\",\"max\"]).unstack()"
   ]
  },
  {
   "cell_type": "code",
   "execution_count": 10,
   "id": "925ce54e-167b-4d03-a026-07c9c55bd00a",
   "metadata": {},
   "outputs": [],
   "source": [
    "import seaborn as sns"
   ]
  },
  {
   "cell_type": "code",
   "execution_count": 11,
   "id": "86910a39-4016-4054-9ad7-1338e5489ec0",
   "metadata": {},
   "outputs": [
    {
     "data": {
      "image/png": "[encoded data removed]",
      "text/plain": [
       "<Figure size 640x480 with 1 Axes>"
      ]
     },
     "metadata": {},
     "output_type": "display_data"
    }
   ],
   "source": [
    "sns.countplot(x=df[\"Duygu\"],color=\"red\");"
   ]
  },
  {
   "cell_type": "code",
   "execution_count": 12,
   "id": "00f8b123-0c93-4211-93dc-5202795f7108",
   "metadata": {},
   "outputs": [],
   "source": [
    "x=df[\"Yorum\"]\n",
    "y=df[\"Duygu\"]"
   ]
  },
  {
   "cell_type": "code",
   "execution_count": 13,
   "id": "d52646d3-0417-4673-9753-feeefb009f3c",
   "metadata": {},
   "outputs": [],
   "source": [
    "from sklearn.model_selection import train_test_split,cross_val_score"
   ]
  },
  {
   "cell_type": "code",
   "execution_count": 14,
   "id": "238c328e-cde4-4e8c-96f1-fab0822668f2",
   "metadata": {},
   "outputs": [],
   "source": [
    "x_train,x_test,y_train,y_test=train_test_split(x,y,test_size=0.2,random_state=42)"
   ]
  },
  {
   "cell_type": "code",
   "execution_count": 15,
   "id": "bc5c8cf7-738b-41ff-9e04-dd1cc038dc5e",
   "metadata": {},
   "outputs": [],
   "source": [
    "from sklearn.feature_extraction.text import CountVectorizer"
   ]
  },
  {
   "cell_type": "code",
   "execution_count": 16,
   "id": "e342033c-33b8-4d2f-94b2-a858008a1a71",
   "metadata": {},
   "outputs": [],
   "source": [
    "vectorizer=CountVectorizer(ngram_range=(1,2))"
   ]
  },
  {
   "cell_type": "code",
   "execution_count": 17,
   "id": "8ddcd91c-d39b-4640-b03f-ec4771026db0",
   "metadata": {},
   "outputs": [],
   "source": [
    "x_train_vectorized=vectorizer.fit_transform(x_train)\n",
    "x_test_vectorized=vectorizer.transform(x_test)"
   ]
  },
  {
   "cell_type": "code",
   "execution_count": 18,
   "id": "f46cde44-39e8-4104-ad09-3651200ac80d",
   "metadata": {},
   "outputs": [],
   "source": [
    "from sklearn.linear_model import LogisticRegression"
   ]
  },
  {
   "cell_type": "code",
   "execution_count": 19,
   "id": "2aa976cc-7332-424d-8b30-0505292e13e5",
   "metadata": {},
   "outputs": [],
   "source": [
    "log=LogisticRegression(solver=\"liblinear\")\n",
    "log_model=log.fit(x_train_vectorized,y_train)"
   ]
  },
  {
   "cell_type": "code",
   "execution_count": 20,
   "id": "7e938935-ce32-4652-becd-c0a04be64be9",
   "metadata": {},
   "outputs": [],
   "source": [
    "from sklearn.metrics import accuracy_score,classification_report"
   ]
  },
  {
   "cell_type": "code",
   "execution_count": 21,
   "id": "acd82866-f62b-45f3-8825-d61d45dea4ea",
   "metadata": {},
   "outputs": [],
   "source": [
    "y_pred=log_model.predict(x_test_vectorized)"
   ]
  },
  {
   "cell_type": "code",
   "execution_count": 22,
   "id": "ba4c6edd-c578-403b-afb5-789b627d86e7",
   "metadata": {},
   "outputs": [],
   "source": [
    "log_acc=accuracy_score(y_test,y_pred)"
   ]
  },
  {
   "cell_type": "code",
   "execution_count": 23,
   "id": "8760bf6d-2b0e-498e-bc48-8104a00f7766",
   "metadata": {},
   "outputs": [
    {
     "data": {
      "text/plain": [
       "0.865"
      ]
     },
     "execution_count": 23,
     "metadata": {},
     "output_type": "execute_result"
    }
   ],
   "source": [
    "log_acc"
   ]
  },
  {
   "cell_type": "code",
   "execution_count": 24,
   "id": "b9eb5583-d17f-46ba-9719-1360f2ad7f6d",
   "metadata": {},
   "outputs": [],
   "source": [
    "log_acc_cv=cross_val_score(log_model,x_test_vectorized,y_test,cv=10).mean()"
   ]
  },
  {
   "cell_type": "code",
   "execution_count": 25,
   "id": "4a2d8680-3892-42f1-b172-5cec85b50b62",
   "metadata": {},
   "outputs": [
    {
     "data": {
      "text/plain": [
       "0.8150000000000001"
      ]
     },
     "execution_count": 25,
     "metadata": {},
     "output_type": "execute_result"
    }
   ],
   "source": [
    "log_acc_cv"
   ]
  },
  {
   "cell_type": "code",
   "execution_count": 26,
   "id": "509c8bdc-4ebb-41ea-a0ee-2d416500fa30",
   "metadata": {},
   "outputs": [],
   "source": [
    "from sklearn.naive_bayes import MultinomialNB"
   ]
  },
  {
   "cell_type": "code",
   "execution_count": 27,
   "id": "785e4905-2449-429c-b993-34ab9a8c7e02",
   "metadata": {},
   "outputs": [],
   "source": [
    "nb=MultinomialNB()\n",
    "nb_model=nb.fit(x_train_vectorized,y_train)"
   ]
  },
  {
   "cell_type": "code",
   "execution_count": 28,
   "id": "e13a7a9f-d477-44cd-a20c-9a1ee286a0f1",
   "metadata": {},
   "outputs": [],
   "source": [
    "y_pred_nb=nb_model.predict(x_test_vectorized)"
   ]
  },
  {
   "cell_type": "code",
   "execution_count": 29,
   "id": "355a52bf-650e-43ae-bcc6-91518a1db52c",
   "metadata": {},
   "outputs": [],
   "source": [
    "nb_acc=accuracy_score(y_test,y_pred_nb)"
   ]
  },
  {
   "cell_type": "code",
   "execution_count": 30,
   "id": "12a45919-4ab4-4752-bcc7-e435c1d56640",
   "metadata": {},
   "outputs": [
    {
     "data": {
      "text/plain": [
       "0.9"
      ]
     },
     "execution_count": 30,
     "metadata": {},
     "output_type": "execute_result"
    }
   ],
   "source": [
    "nb_acc"
   ]
  },
  {
   "cell_type": "code",
   "execution_count": 31,
   "id": "c1bd4bd6-bd18-43fb-ba31-64a6e41c4f44",
   "metadata": {},
   "outputs": [],
   "source": [
    "nb_acc_cv=cross_val_score(nb_model,x_test_vectorized,y_test,cv=10).mean()"
   ]
  },
  {
   "cell_type": "code",
   "execution_count": 32,
   "id": "f065171d-0c4c-484b-ae9c-6090fd283bca",
   "metadata": {},
   "outputs": [
    {
     "data": {
      "text/plain": [
       "0.82"
      ]
     },
     "execution_count": 32,
     "metadata": {},
     "output_type": "execute_result"
    }
   ],
   "source": [
    "nb_acc_cv"
   ]
  },
  {
   "cell_type": "code",
   "execution_count": 33,
   "id": "134badf2-e3ad-4a11-9f0f-15a2e5bcd815",
   "metadata": {},
   "outputs": [],
   "source": [
    "from sklearn.neighbors import KNeighborsClassifier"
   ]
  },
  {
   "cell_type": "code",
   "execution_count": 34,
   "id": "2b211858-e68c-45ea-b98c-841969240e64",
   "metadata": {},
   "outputs": [],
   "source": [
    "knn_model=KNeighborsClassifier().fit(x_train_vectorized,y_train)"
   ]
  },
  {
   "cell_type": "code",
   "execution_count": 35,
   "id": "4010fd2d-d789-4057-9f0a-f71694618861",
   "metadata": {},
   "outputs": [],
   "source": [
    "y_pred_knn=knn_model.predict(x_test_vectorized)"
   ]
  },
  {
   "cell_type": "code",
   "execution_count": 36,
   "id": "63350eb5-db4b-4106-a117-9806531f2f8b",
   "metadata": {},
   "outputs": [
    {
     "data": {
      "text/plain": [
       "0.6"
      ]
     },
     "execution_count": 36,
     "metadata": {},
     "output_type": "execute_result"
    }
   ],
   "source": [
    "knn_acc=accuracy_score(y_test,y_pred_knn)\n",
    "knn_acc"
   ]
  },
  {
   "cell_type": "code",
   "execution_count": 37,
   "id": "7ac6fae4-994d-459f-95fa-541b0fc5c55d",
   "metadata": {},
   "outputs": [],
   "source": [
    "knn_acc_cv=cross_val_score(knn_model,x_test_vectorized,y_test,cv=10).mean()"
   ]
  },
  {
   "cell_type": "code",
   "execution_count": 38,
   "id": "c24c429a-f1d8-473b-9d27-7989dd456b2b",
   "metadata": {},
   "outputs": [
    {
     "data": {
      "text/plain": [
       "0.495"
      ]
     },
     "execution_count": 38,
     "metadata": {},
     "output_type": "execute_result"
    }
   ],
   "source": [
    "knn_acc_cv"
   ]
  },
  {
   "cell_type": "code",
   "execution_count": 39,
   "id": "875cd475-1975-4180-8e4f-53f3dc189ba2",
   "metadata": {},
   "outputs": [],
   "source": [
    "from sklearn.tree import DecisionTreeClassifier"
   ]
  },
  {
   "cell_type": "code",
   "execution_count": 40,
   "id": "6a6e975d-863f-45c0-9d2f-12e919b3814a",
   "metadata": {},
   "outputs": [],
   "source": [
    "cart_model=DecisionTreeClassifier().fit(x_train_vectorized,y_train)"
   ]
  },
  {
   "cell_type": "code",
   "execution_count": 41,
   "id": "e9c815c2-139f-4152-891b-635104a36e6c",
   "metadata": {},
   "outputs": [],
   "source": [
    "y_pred_cart=cart_model.predict(x_test_vectorized)"
   ]
  },
  {
   "cell_type": "code",
   "execution_count": 42,
   "id": "1573bf78-1543-4dc9-b1d0-c356c8aebe30",
   "metadata": {},
   "outputs": [
    {
     "data": {
      "text/plain": [
       "0.77"
      ]
     },
     "execution_count": 42,
     "metadata": {},
     "output_type": "execute_result"
    }
   ],
   "source": [
    "cart_acc=accuracy_score(y_test,y_pred_cart)\n",
    "cart_acc"
   ]
  },
  {
   "cell_type": "code",
   "execution_count": 43,
   "id": "92940b39-d831-414e-823a-1cd4301884d2",
   "metadata": {},
   "outputs": [],
   "source": [
    "cart_acc_cv=cross_val_score(cart_model,x_test_vectorized,y_test,cv=10).mean()"
   ]
  },
  {
   "cell_type": "code",
   "execution_count": 44,
   "id": "d6c2af89-bcda-494d-a61a-b8d0d9d45ebd",
   "metadata": {},
   "outputs": [
    {
     "data": {
      "text/plain": [
       "0.76"
      ]
     },
     "execution_count": 44,
     "metadata": {},
     "output_type": "execute_result"
    }
   ],
   "source": [
    "cart_acc_cv"
   ]
  },
  {
   "cell_type": "code",
   "execution_count": 45,
   "id": "fd949142-70fb-4032-ad35-319d5bae51bb",
   "metadata": {},
   "outputs": [],
   "source": [
    "from sklearn.ensemble import RandomForestClassifier"
   ]
  },
  {
   "cell_type": "code",
   "execution_count": 46,
   "id": "9c2777cd-46c8-40cf-8dc5-83ba4ef648ed",
   "metadata": {},
   "outputs": [],
   "source": [
    "rf_model=RandomForestClassifier().fit(x_train_vectorized,y_train)"
   ]
  },
  {
   "cell_type": "code",
   "execution_count": 47,
   "id": "93a0fbc9-1c44-4533-a699-678af1727f37",
   "metadata": {},
   "outputs": [],
   "source": [
    "y_pred_rf=rf_model.predict(x_test_vectorized)"
   ]
  },
  {
   "cell_type": "code",
   "execution_count": 48,
   "id": "a08bc9d2-fbd9-4ada-b355-dd18c45f6326",
   "metadata": {},
   "outputs": [
    {
     "data": {
      "text/plain": [
       "0.86"
      ]
     },
     "execution_count": 48,
     "metadata": {},
     "output_type": "execute_result"
    }
   ],
   "source": [
    "rf_acc=accuracy_score(y_test,y_pred_rf)\n",
    "rf_acc"
   ]
  },
  {
   "cell_type": "code",
   "execution_count": 49,
   "id": "64cce7da-e28e-4c9f-87f0-9ddaee6de662",
   "metadata": {},
   "outputs": [],
   "source": [
    "rf_acc_cv=cross_val_score(rf_model,x_test_vectorized,y_test,cv=10).mean()"
   ]
  },
  {
   "cell_type": "code",
   "execution_count": 50,
   "id": "7b5256b7-f434-4fd2-a3ed-0fd83678d228",
   "metadata": {},
   "outputs": [
    {
     "data": {
      "text/plain": [
       "0.7899999999999999"
      ]
     },
     "execution_count": 50,
     "metadata": {},
     "output_type": "execute_result"
    }
   ],
   "source": [
    "rf_acc_cv"
   ]
  },
  {
   "cell_type": "code",
   "execution_count": 51,
   "id": "6fd6e862-73d1-4f30-9f57-a1c689a78139",
   "metadata": {},
   "outputs": [],
   "source": [
    "from sklearn.ensemble import GradientBoostingClassifier"
   ]
  },
  {
   "cell_type": "code",
   "execution_count": 52,
   "id": "3676d154-95d3-47cd-8e9f-9c70544a4257",
   "metadata": {},
   "outputs": [],
   "source": [
    "gbm_model=GradientBoostingClassifier().fit(x_train_vectorized,y_train)"
   ]
  },
  {
   "cell_type": "code",
   "execution_count": 53,
   "id": "c025347d-5e96-4e95-81b8-31ec9d00980f",
   "metadata": {},
   "outputs": [],
   "source": [
    "y_pred_gbm=gbm_model.predict(x_test_vectorized)"
   ]
  },
  {
   "cell_type": "code",
   "execution_count": 54,
   "id": "cf35ef5e-f4e8-48ec-80fe-bc3e42562517",
   "metadata": {},
   "outputs": [
    {
     "data": {
      "text/plain": [
       "0.815"
      ]
     },
     "execution_count": 54,
     "metadata": {},
     "output_type": "execute_result"
    }
   ],
   "source": [
    "gbm_acc=accuracy_score(y_test,y_pred_gbm)\n",
    "gbm_acc"
   ]
  },
  {
   "cell_type": "code",
   "execution_count": 55,
   "id": "30c1edf7-5048-4a76-b80a-a7d47fcf5722",
   "metadata": {},
   "outputs": [],
   "source": [
    "gbm_acc_cv=cross_val_score(gbm_model,x_test_vectorized,y_test,cv=10).mean()"
   ]
  },
  {
   "cell_type": "code",
   "execution_count": 56,
   "id": "868b2266-43b9-4606-8acc-b589a4df2bc9",
   "metadata": {},
   "outputs": [
    {
     "data": {
      "text/plain": [
       "0.7949999999999999"
      ]
     },
     "execution_count": 56,
     "metadata": {},
     "output_type": "execute_result"
    }
   ],
   "source": [
    "gbm_acc_cv"
   ]
  },
  {
   "cell_type": "code",
   "execution_count": 57,
   "id": "e780374e-15b2-4341-8757-523f46509e47",
   "metadata": {},
   "outputs": [],
   "source": [
    "from xgboost import XGBClassifier"
   ]
  },
  {
   "cell_type": "code",
   "execution_count": 58,
   "id": "ed722e22-d2e1-4589-960f-1d57ff60c7dc",
   "metadata": {},
   "outputs": [],
   "source": [
    "xgb_model=XGBClassifier().fit(x_train_vectorized,y_train)"
   ]
  },
  {
   "cell_type": "code",
   "execution_count": 59,
   "id": "84051ecf-c2d2-4f4b-a749-11288de06f9b",
   "metadata": {},
   "outputs": [],
   "source": [
    "y_pred_xgb=xgb_model.predict(x_test_vectorized)"
   ]
  },
  {
   "cell_type": "code",
   "execution_count": 60,
   "id": "dafa196e-aa0b-4d7e-8237-1d91b3947a95",
   "metadata": {},
   "outputs": [
    {
     "data": {
      "text/plain": [
       "0.82"
      ]
     },
     "execution_count": 60,
     "metadata": {},
     "output_type": "execute_result"
    }
   ],
   "source": [
    "xgb_acc=accuracy_score(y_test,y_pred_xgb)\n",
    "xgb_acc"
   ]
  },
  {
   "cell_type": "code",
   "execution_count": 61,
   "id": "21ee0ef6-f543-478c-a71b-c0c73814a6af",
   "metadata": {},
   "outputs": [],
   "source": [
    "xgb_acc_cv=cross_val_score(xgb_model,x_test_vectorized,y_test,cv=10).mean()"
   ]
  },
  {
   "cell_type": "code",
   "execution_count": 62,
   "id": "2f360c7a-857c-492c-926f-63d99c465157",
   "metadata": {},
   "outputs": [
    {
     "data": {
      "text/plain": [
       "0.76"
      ]
     },
     "execution_count": 62,
     "metadata": {},
     "output_type": "execute_result"
    }
   ],
   "source": [
    "xgb_acc_cv"
   ]
  },
  {
   "cell_type": "code",
   "execution_count": 63,
   "id": "766b4fd3-ad5b-4e49-9e52-68d1bd635f59",
   "metadata": {},
   "outputs": [],
   "source": [
    "from sklearn.svm import SVC"
   ]
  },
  {
   "cell_type": "code",
   "execution_count": 64,
   "id": "bce9a66e-6d00-4565-812a-678f89e6af4f",
   "metadata": {},
   "outputs": [],
   "source": [
    "svm_lin_model=SVC(kernel=\"linear\").fit(x_train_vectorized,y_train)"
   ]
  },
  {
   "cell_type": "code",
   "execution_count": 65,
   "id": "2a6f6f69-9dd3-45ae-9003-2eb0fd44df44",
   "metadata": {},
   "outputs": [],
   "source": [
    "y_pred_svm_lin=svm_lin_model.predict(x_test_vectorized)"
   ]
  },
  {
   "cell_type": "code",
   "execution_count": 66,
   "id": "b3dc9761-1d52-456a-9e89-bc5c50b36b64",
   "metadata": {},
   "outputs": [
    {
     "data": {
      "text/plain": [
       "0.815"
      ]
     },
     "execution_count": 66,
     "metadata": {},
     "output_type": "execute_result"
    }
   ],
   "source": [
    "svm_lin_acc=accuracy_score(y_test,y_pred_svm_lin)\n",
    "svm_lin_acc"
   ]
  },
  {
   "cell_type": "code",
   "execution_count": 67,
   "id": "f088ea69-8287-46f8-b36c-86fc61406c53",
   "metadata": {},
   "outputs": [],
   "source": [
    "svm_lin_acc_cv=cross_val_score(svm_lin_model,x_test_vectorized,y_test,cv=10).mean()"
   ]
  },
  {
   "cell_type": "code",
   "execution_count": 68,
   "id": "47be7ca6-c448-4318-83ee-4e89405a0a81",
   "metadata": {},
   "outputs": [
    {
     "data": {
      "text/plain": [
       "0.7249999999999999"
      ]
     },
     "execution_count": 68,
     "metadata": {},
     "output_type": "execute_result"
    }
   ],
   "source": [
    "svm_lin_acc_cv"
   ]
  },
  {
   "cell_type": "code",
   "execution_count": 69,
   "id": "885665f6-70a2-4c38-87f4-61a0c408dcc1",
   "metadata": {},
   "outputs": [],
   "source": [
    "svm_rbf_model=SVC(kernel=\"rbf\").fit(x_train_vectorized,y_train)"
   ]
  },
  {
   "cell_type": "code",
   "execution_count": 70,
   "id": "358e9af6-be33-4f6c-a5ab-4f437bbf21ee",
   "metadata": {},
   "outputs": [],
   "source": [
    "y_pred_svm_rbf=svm_rbf_model.predict(x_test_vectorized)"
   ]
  },
  {
   "cell_type": "code",
   "execution_count": 71,
   "id": "14b127d7-9fbf-4e1d-84be-caec89b91efb",
   "metadata": {},
   "outputs": [
    {
     "data": {
      "text/plain": [
       "0.835"
      ]
     },
     "execution_count": 71,
     "metadata": {},
     "output_type": "execute_result"
    }
   ],
   "source": [
    "svm_rbf_acc=accuracy_score(y_test,y_pred_svm_rbf)\n",
    "svm_rbf_acc"
   ]
  },
  {
   "cell_type": "code",
   "execution_count": 72,
   "id": "0749136a-8c95-455a-8318-7c8fbec8396d",
   "metadata": {},
   "outputs": [],
   "source": [
    "svm_rbf_acc_cv=cross_val_score(svm_rbf_model,x_test_vectorized,y_test,cv=10).mean()"
   ]
  },
  {
   "cell_type": "code",
   "execution_count": 73,
   "id": "a501fccb-f0a3-4808-87a0-a2d9bac2a87a",
   "metadata": {},
   "outputs": [
    {
     "data": {
      "text/plain": [
       "0.76"
      ]
     },
     "execution_count": 73,
     "metadata": {},
     "output_type": "execute_result"
    }
   ],
   "source": [
    "svm_rbf_acc_cv"
   ]
  },
  {
   "cell_type": "code",
   "execution_count": 74,
   "id": "ccee7b4e-17bc-43ea-a5cf-1ab66213d4e9",
   "metadata": {},
   "outputs": [],
   "source": [
    "modeller=[\"log\",\"nb\",\"svm lin\",\"svm rbf\",\"knn\",\"cart\",\"rf\",\"gbm\",\"xgbm\"]\n",
    "başarı=[log_acc,nb_acc,svm_lin_acc,svm_rbf_acc,knn_acc,cart_acc,rf_acc,gbm_acc,xgb_acc]\n",
    "valide_başarı=[log_acc_cv,nb_acc_cv,svm_lin_acc_cv,svm_rbf_acc_cv,knn_acc_cv,cart_acc_cv,rf_acc_cv,gbm_acc_cv,xgb_acc_cv]"
   ]
  },
  {
   "cell_type": "code",
   "execution_count": 75,
   "id": "46625d59-c132-4b0b-8cfe-bd13caf9186d",
   "metadata": {},
   "outputs": [],
   "source": [
    "d={\"model\":modeller,\n",
    "   \"başarı\":başarı,\n",
    "   \"valide başarı\":valide_başarı}"
   ]
  },
  {
   "cell_type": "code",
   "execution_count": 76,
   "id": "5c5b30f0-d1d4-4201-a39f-8b2be6060838",
   "metadata": {},
   "outputs": [],
   "source": [
    "d=pd.DataFrame(d,columns=[\"model\",\"başarı\",\"valide başarı\"])"
   ]
  },
  {
   "cell_type": "code",
   "execution_count": 77,
   "id": "9d263f2d-d4ba-499b-b13f-d09e88baacfd",
   "metadata": {},
   "outputs": [
    {
     "data": {
      "text/html": [
       "<div>\n",
       "<style scoped>\n",
       "    .dataframe tbody tr th:only-of-type {\n",
       "        vertical-align: middle;\n",
       "    }\n",
       "\n",
       "    .dataframe tbody tr th {\n",
       "        vertical-align: top;\n",
       "    }\n",
       "\n",
       "    .dataframe thead th {\n",
       "        text-align: right;\n",
       "    }\n",
       "</style>\n",
       "<table border=\"1\" class=\"dataframe\">\n",
       "  <thead>\n",
       "    <tr style=\"text-align: right;\">\n",
       "      <th></th>\n",
       "      <th>model</th>\n",
       "      <th>başarı</th>\n",
       "      <th>valide başarı</th>\n",
       "    </tr>\n",
       "  </thead>\n",
       "  <tbody>\n",
       "    <tr>\n",
       "      <th>0</th>\n",
       "      <td>log</td>\n",
       "      <td>0.865</td>\n",
       "      <td>0.815</td>\n",
       "    </tr>\n",
       "    <tr>\n",
       "      <th>1</th>\n",
       "      <td>nb</td>\n",
       "      <td>0.900</td>\n",
       "      <td>0.820</td>\n",
       "    </tr>\n",
       "    <tr>\n",
       "      <th>2</th>\n",
       "      <td>svm lin</td>\n",
       "      <td>0.815</td>\n",
       "      <td>0.725</td>\n",
       "    </tr>\n",
       "    <tr>\n",
       "      <th>3</th>\n",
       "      <td>svm rbf</td>\n",
       "      <td>0.835</td>\n",
       "      <td>0.760</td>\n",
       "    </tr>\n",
       "    <tr>\n",
       "      <th>4</th>\n",
       "      <td>knn</td>\n",
       "      <td>0.600</td>\n",
       "      <td>0.495</td>\n",
       "    </tr>\n",
       "    <tr>\n",
       "      <th>5</th>\n",
       "      <td>cart</td>\n",
       "      <td>0.770</td>\n",
       "      <td>0.760</td>\n",
       "    </tr>\n",
       "    <tr>\n",
       "      <th>6</th>\n",
       "      <td>rf</td>\n",
       "      <td>0.860</td>\n",
       "      <td>0.790</td>\n",
       "    </tr>\n",
       "    <tr>\n",
       "      <th>7</th>\n",
       "      <td>gbm</td>\n",
       "      <td>0.815</td>\n",
       "      <td>0.795</td>\n",
       "    </tr>\n",
       "    <tr>\n",
       "      <th>8</th>\n",
       "      <td>xgbm</td>\n",
       "      <td>0.820</td>\n",
       "      <td>0.760</td>\n",
       "    </tr>\n",
       "  </tbody>\n",
       "</table>\n",
       "</div>"
      ],
      "text/plain": [
       "     model  başarı  valide başarı\n",
       "0      log   0.865          0.815\n",
       "1       nb   0.900          0.820\n",
       "2  svm lin   0.815          0.725\n",
       "3  svm rbf   0.835          0.760\n",
       "4      knn   0.600          0.495\n",
       "5     cart   0.770          0.760\n",
       "6       rf   0.860          0.790\n",
       "7      gbm   0.815          0.795\n",
       "8     xgbm   0.820          0.760"
      ]
     },
     "execution_count": 77,
     "metadata": {},
     "output_type": "execute_result"
    }
   ],
   "source": [
    "d"
   ]
  },
  {
   "cell_type": "code",
   "execution_count": 78,
   "id": "a4a3ecb6-fe8a-40a6-8560-0aa08a09ed9b",
   "metadata": {},
   "outputs": [
    {
     "data": {
      "image/png": "[encoded data removed]",
      "text/plain": [
       "<Figure size 640x480 with 1 Axes>"
      ]
     },
     "metadata": {},
     "output_type": "display_data"
    }
   ],
   "source": [
    "sns.barplot(y=d[\"model\"],x=d[\"başarı\"],color=\"red\");"
   ]
  },
  {
   "cell_type": "code",
   "execution_count": 79,
   "id": "c01a08e8-3548-48f7-91c7-34486ae9aba4",
   "metadata": {},
   "outputs": [
    {
     "data": {
      "image/png": "[encoded data removed]",
      "text/plain": [
       "<Figure size 640x480 with 1 Axes>"
      ]
     },
     "metadata": {},
     "output_type": "display_data"
    }
   ],
   "source": [
    "sns.barplot(x=d[\"valide başarı\"],y=d[\"model\"],color=\"green\");"
   ]
  },
  {
   "cell_type": "code",
   "execution_count": 80,
   "id": "f33a2525-9f57-4295-8e3e-228383a6b412",
   "metadata": {},
   "outputs": [],
   "source": [
    "import matplotlib.pyplot as plt"
   ]
  },
  {
   "cell_type": "code",
   "execution_count": 81,
   "id": "2d5e8168-2097-42e4-9136-99b7cc085050",
   "metadata": {},
   "outputs": [
    {
     "data": {
      "text/plain": [
       "Text(0.5, 1.0, 'model_acc_cv')"
      ]
     },
     "execution_count": 81,
     "metadata": {},
     "output_type": "execute_result"
    },
    {
     "data": {
      "image/png": "[encoded data removed]",
      "text/plain": [
       "<Figure size 2000x1200 with 2 Axes>"
      ]
     },
     "metadata": {},
     "output_type": "display_data"
    }
   ],
   "source": [
    "plt.figure(figsize=((20,12)))\n",
    "plt.subplot(1,2,1)\n",
    "sns.barplot(x=d[\"model\"],y=d[\"başarı\"],color=\"red\");\n",
    "plt.title(\"model_acc\")\n",
    "plt.subplot(1,2,2)\n",
    "sns.barplot(x=d[\"model\"],y=d[\"valide başarı\"],color=\"green\");\n",
    "plt.title(\"model_acc_cv\")"
   ]
  },
  {
   "cell_type": "code",
   "execution_count": 82,
   "id": "cfdbb071-8320-493c-911d-b43ff455a357",
   "metadata": {},
   "outputs": [],
   "source": [
    "from sklearn.ensemble import GradientBoostingClassifier"
   ]
  },
  {
   "cell_type": "code",
   "execution_count": 83,
   "id": "d5325335-6b22-44b2-803c-f554d46e3442",
   "metadata": {},
   "outputs": [],
   "source": [
    "from sklearn.model_selection import GridSearchCV"
   ]
  },
  {
   "cell_type": "code",
   "execution_count": 84,
   "id": "a3b6caae-1c6a-4486-b478-013282bcbec9",
   "metadata": {},
   "outputs": [],
   "source": [
    "gbm_model=GradientBoostingClassifier(random_state=42)"
   ]
  },
  {
   "cell_type": "code",
   "execution_count": 85,
   "id": "fe6bf4dc-9e94-4056-a721-bea7be266486",
   "metadata": {},
   "outputs": [],
   "source": [
    "gbm_params={\"n_estimators\":[100,200,300],\n",
    "           \"max_depth\":[2,3,5],\n",
    "           \"learning_rate\":[0.01,0.05,0.1],\n",
    "           \"subsample\":[0.8,1.0]}"
   ]
  },
  {
   "cell_type": "code",
   "execution_count": 86,
   "id": "60b2c387-4679-4b2a-871c-45bbdb854397",
   "metadata": {},
   "outputs": [],
   "source": [
    "gbm_cv=GridSearchCV(gbm_model,gbm_params,scoring=\"accuracy\",cv=5,n_jobs=-1,verbose=2)"
   ]
  },
  {
   "cell_type": "code",
   "execution_count": 89,
   "id": "c48cf15d-0aa6-4d3f-b3aa-125411422e17",
   "metadata": {},
   "outputs": [
    {
     "name": "stdout",
     "output_type": "stream",
     "text": [
      "Fitting 5 folds for each of 54 candidates, totalling 270 fits\n"
     ]
    },
    {
     "data": {
      "text/html": [
       "<style>#sk-container-id-1 {color: black;background-color: white;}#sk-container-id-1 pre{padding: 0;}#sk-container-id-1 div.sk-toggleable {background-color: white;}#sk-container-id-1 label.sk-toggleable__label {cursor: pointer;display: block;width: 100%;margin-bottom: 0;padding: 0.3em;box-sizing: border-box;text-align: center;}#sk-container-id-1 label.sk-toggleable__label-arrow:before {content: \"▸\";float: left;margin-right: 0.25em;color: #696969;}#sk-container-id-1 label.sk-toggleable__label-arrow:hover:before {color: black;}#sk-container-id-1 div.sk-estimator:hover label.sk-toggleable__label-arrow:before {color: black;}#sk-container-id-1 div.sk-toggleable__content {max-height: 0;max-width: 0;overflow: hidden;text-align: left;background-color: #f0f8ff;}#sk-container-id-1 div.sk-toggleable__content pre {margin: 0.2em;color: black;border-radius: 0.25em;background-color: #f0f8ff;}#sk-container-id-1 input.sk-toggleable__control:checked~div.sk-toggleable__content {max-height: 200px;max-width: 100%;overflow: auto;}#sk-container-id-1 input.sk-toggleable__control:checked~label.sk-toggleable__label-arrow:before {content: \"▾\";}#sk-container-id-1 div.sk-estimator input.sk-toggleable__control:checked~label.sk-toggleable__label {background-color: #d4ebff;}#sk-container-id-1 div.sk-label input.sk-toggleable__control:checked~label.sk-toggleable__label {background-color: #d4ebff;}#sk-container-id-1 input.sk-hidden--visually {border: 0;clip: rect(1px 1px 1px 1px);clip: rect(1px, 1px, 1px, 1px);height: 1px;margin: -1px;overflow: hidden;padding: 0;position: absolute;width: 1px;}#sk-container-id-1 div.sk-estimator {font-family: monospace;background-color: #f0f8ff;border: 1px dotted black;border-radius: 0.25em;box-sizing: border-box;margin-bottom: 0.5em;}#sk-container-id-1 div.sk-estimator:hover {background-color: #d4ebff;}#sk-container-id-1 div.sk-parallel-item::after {content: \"\";width: 100%;border-bottom: 1px solid gray;flex-grow: 1;}#sk-container-id-1 div.sk-label:hover label.sk-toggleable__label {background-color: #d4ebff;}#sk-container-id-1 div.sk-serial::before {content: \"\";position: absolute;border-left: 1px solid gray;box-sizing: border-box;top: 0;bottom: 0;left: 50%;z-index: 0;}#sk-container-id-1 div.sk-serial {display: flex;flex-direction: column;align-items: center;background-color: white;padding-right: 0.2em;padding-left: 0.2em;position: relative;}#sk-container-id-1 div.sk-item {position: relative;z-index: 1;}#sk-container-id-1 div.sk-parallel {display: flex;align-items: stretch;justify-content: center;background-color: white;position: relative;}#sk-container-id-1 div.sk-item::before, #sk-container-id-1 div.sk-parallel-item::before {content: \"\";position: absolute;border-left: 1px solid gray;box-sizing: border-box;top: 0;bottom: 0;left: 50%;z-index: -1;}#sk-container-id-1 div.sk-parallel-item {display: flex;flex-direction: column;z-index: 1;position: relative;background-color: white;}#sk-container-id-1 div.sk-parallel-item:first-child::after {align-self: flex-end;width: 50%;}#sk-container-id-1 div.sk-parallel-item:last-child::after {align-self: flex-start;width: 50%;}#sk-container-id-1 div.sk-parallel-item:only-child::after {width: 0;}#sk-container-id-1 div.sk-dashed-wrapped {border: 1px dashed gray;margin: 0 0.4em 0.5em 0.4em;box-sizing: border-box;padding-bottom: 0.4em;background-color: white;}#sk-container-id-1 div.sk-label label {font-family: monospace;font-weight: bold;display: inline-block;line-height: 1.2em;}#sk-container-id-1 div.sk-label-container {text-align: center;}#sk-container-id-1 div.sk-container {/* jupyter's `normalize.less` sets `[hidden] { display: none; }` but bootstrap.min.css set `[hidden] { display: none !important; }` so we also need the `!important` here to be able to override the default hidden behavior on the sphinx rendered scikit-learn.org. See: https://github.com/scikit-learn/scikit-learn/issues/21755 */display: inline-block !important;position: relative;}#sk-container-id-1 div.sk-text-repr-fallback {display: none;}</style><div id=\"sk-container-id-1\" class=\"sk-top-container\"><div class=\"sk-text-repr-fallback\"><pre>GridSearchCV(cv=5, estimator=GradientBoostingClassifier(random_state=42),\n",
       "             n_jobs=-1,\n",
       "             param_grid={&#x27;learning_rate&#x27;: [0.01, 0.05, 0.1],\n",
       "                         &#x27;max_depth&#x27;: [2, 3, 5],\n",
       "                         &#x27;n_estimators&#x27;: [100, 200, 300],\n",
       "                         &#x27;subsample&#x27;: [0.8, 1.0]},\n",
       "             scoring=&#x27;accuracy&#x27;, verbose=2)</pre><b>In a Jupyter environment, please rerun this cell to show the HTML representation or trust the notebook. <br />On GitHub, the HTML representation is unable to render, please try loading this page with nbviewer.org.</b></div><div class=\"sk-container\" hidden><div class=\"sk-item sk-dashed-wrapped\"><div class=\"sk-label-container\"><div class=\"sk-label sk-toggleable\"><input class=\"sk-toggleable__control sk-hidden--visually\" id=\"sk-estimator-id-1\" type=\"checkbox\" ><label for=\"sk-estimator-id-1\" class=\"sk-toggleable__label sk-toggleable__label-arrow\">GridSearchCV</label><div class=\"sk-toggleable__content\"><pre>GridSearchCV(cv=5, estimator=GradientBoostingClassifier(random_state=42),\n",
       "             n_jobs=-1,\n",
       "             param_grid={&#x27;learning_rate&#x27;: [0.01, 0.05, 0.1],\n",
       "                         &#x27;max_depth&#x27;: [2, 3, 5],\n",
       "                         &#x27;n_estimators&#x27;: [100, 200, 300],\n",
       "                         &#x27;subsample&#x27;: [0.8, 1.0]},\n",
       "             scoring=&#x27;accuracy&#x27;, verbose=2)</pre></div></div></div><div class=\"sk-parallel\"><div class=\"sk-parallel-item\"><div class=\"sk-item\"><div class=\"sk-label-container\"><div class=\"sk-label sk-toggleable\"><input class=\"sk-toggleable__control sk-hidden--visually\" id=\"sk-estimator-id-2\" type=\"checkbox\" ><label for=\"sk-estimator-id-2\" class=\"sk-toggleable__label sk-toggleable__label-arrow\">estimator: GradientBoostingClassifier</label><div class=\"sk-toggleable__content\"><pre>GradientBoostingClassifier(random_state=42)</pre></div></div></div><div class=\"sk-serial\"><div class=\"sk-item\"><div class=\"sk-estimator sk-toggleable\"><input class=\"sk-toggleable__control sk-hidden--visually\" id=\"sk-estimator-id-3\" type=\"checkbox\" ><label for=\"sk-estimator-id-3\" class=\"sk-toggleable__label sk-toggleable__label-arrow\">GradientBoostingClassifier</label><div class=\"sk-toggleable__content\"><pre>GradientBoostingClassifier(random_state=42)</pre></div></div></div></div></div></div></div></div></div></div>"
      ],
      "text/plain": [
       "GridSearchCV(cv=5, estimator=GradientBoostingClassifier(random_state=42),\n",
       "             n_jobs=-1,\n",
       "             param_grid={'learning_rate': [0.01, 0.05, 0.1],\n",
       "                         'max_depth': [2, 3, 5],\n",
       "                         'n_estimators': [100, 200, 300],\n",
       "                         'subsample': [0.8, 1.0]},\n",
       "             scoring='accuracy', verbose=2)"
      ]
     },
     "execution_count": 89,
     "metadata": {},
     "output_type": "execute_result"
    }
   ],
   "source": [
    "gbm_cv.fit(x_train_vectorized,y_train)"
   ]
  },
  {
   "cell_type": "code",
   "execution_count": 90,
   "id": "e68b9ffb-3211-41c6-a486-b2cbda0c46eb",
   "metadata": {},
   "outputs": [
    {
     "data": {
      "text/plain": [
       "{'learning_rate': 0.05, 'max_depth': 3, 'n_estimators': 300, 'subsample': 0.8}"
      ]
     },
     "execution_count": 90,
     "metadata": {},
     "output_type": "execute_result"
    }
   ],
   "source": [
    "gbm_cv.best_params_"
   ]
  },
  {
   "cell_type": "code",
   "execution_count": 91,
   "id": "378ada4c-e422-4f56-941d-b2d1f7df533f",
   "metadata": {},
   "outputs": [],
   "source": [
    "gbm_tune=GradientBoostingClassifier(n_estimators=300,max_depth=3,learning_rate=0.05,subsample=0.8,random_state=42)"
   ]
  },
  {
   "cell_type": "code",
   "execution_count": 92,
   "id": "b3fa79d1-27f4-4aef-92f5-7eb2c84addac",
   "metadata": {},
   "outputs": [],
   "source": [
    "gbm_tune_model=gbm_tune.fit(x_train_vectorized,y_train)"
   ]
  },
  {
   "cell_type": "code",
   "execution_count": 93,
   "id": "90f168cf-f20e-451f-9036-598ac6c5a4d8",
   "metadata": {},
   "outputs": [],
   "source": [
    "y_pred_gbm_tune=gbm_tune_model.predict(x_test_vectorized)"
   ]
  },
  {
   "cell_type": "code",
   "execution_count": 94,
   "id": "77ec89e1-1364-4f44-92e7-2780eaa8bfa6",
   "metadata": {},
   "outputs": [],
   "source": [
    "gbm_tune_acc=accuracy_score(y_pred_gbm_tune,y_test)"
   ]
  },
  {
   "cell_type": "code",
   "execution_count": 95,
   "id": "5a44de06-bbf3-4a4d-ae42-380f51c01ca4",
   "metadata": {},
   "outputs": [
    {
     "data": {
      "text/plain": [
       "0.85"
      ]
     },
     "execution_count": 95,
     "metadata": {},
     "output_type": "execute_result"
    }
   ],
   "source": [
    "gbm_tune_acc"
   ]
  },
  {
   "cell_type": "code",
   "execution_count": 96,
   "id": "c334e4c3-778a-4162-9296-80ab77096d79",
   "metadata": {},
   "outputs": [],
   "source": [
    "gbm_tune_acc_cv=cross_val_score(gbm_tune_model,x_test_vectorized,y_test,cv=10).mean()"
   ]
  },
  {
   "cell_type": "code",
   "execution_count": 97,
   "id": "787fb25a-ea1b-45b4-8778-afcd34a11a5b",
   "metadata": {},
   "outputs": [
    {
     "data": {
      "text/plain": [
       "0.8000000000000002"
      ]
     },
     "execution_count": 97,
     "metadata": {},
     "output_type": "execute_result"
    }
   ],
   "source": [
    "gbm_tune_acc_cv"
   ]
  },
  {
   "cell_type": "code",
   "execution_count": 98,
   "id": "7cb7a2fb-d810-4df5-b2ab-a96503eedfb4",
   "metadata": {},
   "outputs": [],
   "source": [
    "model_tuned=nb_model"
   ]
  },
  {
   "cell_type": "code",
   "execution_count": 100,
   "id": "f32bd340-b669-4536-836c-482570dda61e",
   "metadata": {},
   "outputs": [
    {
     "data": {
      "text/plain": [
       "array([1, 1, 0, 1, 0], dtype=int64)"
      ]
     },
     "execution_count": 100,
     "metadata": {},
     "output_type": "execute_result"
    }
   ],
   "source": [
    "model_tuned.predict(x_test_vectorized)[0:5]"
   ]
  },
  {
   "cell_type": "code",
   "execution_count": 101,
   "id": "c4b1d1b1-83c2-44d3-934f-4b1f1984374a",
   "metadata": {},
   "outputs": [],
   "source": [
    "import joblib"
   ]
  },
  {
   "cell_type": "code",
   "execution_count": 103,
   "id": "238ed065-c53c-4fea-b97c-a785ca2f3537",
   "metadata": {},
   "outputs": [
    {
     "data": {
      "text/plain": [
       "['model_tuned.pkl']"
      ]
     },
     "execution_count": 103,
     "metadata": {},
     "output_type": "execute_result"
    }
   ],
   "source": [
    "joblib.dump(model_tuned,\"model_tuned.pkl\")"
   ]
  },
  {
   "cell_type": "code",
   "execution_count": 104,
   "id": "2b3f472a-30a0-46a7-8b81-3b56149b0628",
   "metadata": {},
   "outputs": [],
   "source": [
    "model=joblib.load(\"model_tuned.pkl\")"
   ]
  }
 ],
 "metadata": {
  "kernelspec": {
   "display_name": "Python 3 (ipykernel)",
   "language": "python",
   "name": "python3"
  },
  "language_info": {
   "codemirror_mode": {
    "name": "ipython",
    "version": 3
   },
   "file_extension": ".py",
   "mimetype": "text/x-python",
   "name": "python",
   "nbconvert_exporter": "python",
   "pygments_lexer": "ipython3",
   "version": "3.9.23"
  }
 },
 "nbformat": 4,
 "nbformat_minor": 5
}
